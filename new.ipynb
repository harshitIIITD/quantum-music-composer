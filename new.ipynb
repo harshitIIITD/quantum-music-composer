{
 "cells": [
  {
   "cell_type": "code",
   "execution_count": 31,
   "metadata": {},
   "outputs": [],
   "source": [
    "from qiskit import QuantumCircuit\n",
    "from qiskit.quantum_info import SparsePauliOp\n",
    "from qiskit.transpiler.preset_passmanagers import generate_preset_pass_manager\n",
    "from qiskit_ibm_runtime import EstimatorV2 as Estimator"
   ]
  },
  {
   "cell_type": "code",
   "execution_count": 32,
   "metadata": {},
   "outputs": [],
   "source": [
    "from qiskit_ibm_runtime import QiskitRuntimeService\n",
    " \n",
    "# If you did not previously save your credentials, use the following line instead:\n",
    "# service = QiskitRuntimeService(channel=\"ibm_quantum\", token=\"<MY_IBM_QUANTUM_TOKEN>\")\n",
    "service = QiskitRuntimeService(\n",
    "    channel='ibm_quantum',\n",
    "    instance='ibm-q/open/main',\n",
    "    token='6bff12eba6bc54670a51d77298bd7e15fb701357a9918ef717a321830e2c8634d4c51e9c8f0051768fe13665e308bdc3710861d8a938272c9ccafd2820c01db7'\n",
    ")\n"
   ]
  },
  {
   "cell_type": "code",
   "execution_count": 33,
   "metadata": {},
   "outputs": [],
   "source": [
    "from qiskit import *\n",
    "def circ(input):\n",
    "  qc = QuantumCircuit(5,3)\n",
    "  for i, v in enumerate(input):\n",
    "    #This encodes the output state from previous run as input in the next circuit\n",
    "    if v=='1':\n",
    "      qc.x(2-i)\n",
    "  qc.h(3)\n",
    "  qc.h(4)\n",
    "  qc.cx(4, 0)\n",
    "  qc.x(4)\n",
    "  qc.cx(4, 1)\n",
    "  qc.cx(3, 2)\n",
    "  qc.ccx(4, 3, 1)\n",
    "  qc.x(4)\n",
    "  qc.ccx(4, 3, 0)\n",
    "  qc.x(4)\n",
    "  qc.ccx(4, 3, 2)\n",
    "  qc.barrier(range(3))\n",
    "  qc.measure([0,1,2],[0,1,2])\n",
    "  return qc\n"
   ]
  },
  {
   "cell_type": "code",
   "execution_count": 34,
   "metadata": {},
   "outputs": [],
   "source": [
    "backend = service.least_busy(simulator=False, operational=True)\n",
    " \n",
    "# Convert to an ISA circuit and layout-mapped observables.\n",
    "pm = generate_preset_pass_manager(backend=backend, optimization_level=1)\n",
    "\n",
    "# isa_circuit = pm.run(circ('101'))\n",
    " \n",
    "# isa_circuit.draw()"
   ]
  },
  {
   "cell_type": "code",
   "execution_count": 35,
   "metadata": {},
   "outputs": [],
   "source": [
    "from qiskit_ibm_runtime import QiskitRuntimeService\n",
    "from qiskit.compiler import schedule, transpile\n",
    "from qiskit.providers.basic_provider import BasicProvider\n"
   ]
  },
  {
   "cell_type": "code",
   "execution_count": null,
   "metadata": {},
   "outputs": [],
   "source": []
  },
  {
   "cell_type": "code",
   "execution_count": 36,
   "metadata": {},
   "outputs": [
    {
     "name": "stderr",
     "output_type": "stream",
     "text": [
      "/tmp/ipykernel_22118/2326052786.py:4: DeprecationWarning: backend.run() and related sessions methods are deprecated  as of qiskit-ibm-runtime 0.23 and will be removed no sooner than 6 months after the release date. More details can be found in the primitives migration guide https://docs.quantum.ibm.com/api/migration-guides/qiskit-runtime.\n",
      "  job_sim = backend.run(transpile(qc, backend= backend), shots=1024)\n"
     ]
    }
   ],
   "source": [
    "notes = ['001']\n",
    "for i in range(100):\n",
    "    qc = circ(notes[i])\n",
    "    job_sim = backend.run(transpile(qc, backend= backend), shots=1024)\n",
    "    result_sim = job_sim.result()\n",
    "    counts = result_sim.get_counts(qc)\n",
    "    max_key = max(counts, key=counts.get)\n",
    "    notes.append(max_key)\n",
    "\n",
    "print(notes)"
   ]
  },
  {
   "cell_type": "code",
   "execution_count": null,
   "metadata": {},
   "outputs": [],
   "source": [
    "rhythm = ['000']\n",
    "for i in range(100):\n",
    "  qc = circ(rhythm[i])\n",
    "  job_sim = backend.run(transpile(qc, backend), shots=1024)\n",
    "  result_sim = job_sim.result()\n",
    "  counts = result_sim.get_counts(qc)\n",
    "  max_key = max(counts, key=counts.get)\n",
    "  rhythm.append(max_key)\n"
   ]
  },
  {
   "cell_type": "code",
   "execution_count": null,
   "metadata": {},
   "outputs": [],
   "source": [
    "notes = ['001', '000', '010', '110', '100', '000', '001', '101', '111', '101', '100', '100', '000', '010', '000', '000', '100', '100', '101', '001', '101', '111', '111', '011', '111', '011', '010', '000', '100', '110', '110', '110', '010', '010', '011', '010', '110', '100', '100', '000', '000', '010', '011', '010', '110', '111', '101', '101', '001', '101', '101', '001', '000', '010', '011', '001', '101', '100', '000', '010', '000', '001', '001', '011', '010', '011', '111', '110', '100', '100', '100', '110', '010', '010', '110', '110', '100', '101', '100', '110', '110', '111', '110', '100', '100', '101', '100', '000', '010', '110', '100', '000', '000', '000', '001', '101', '111', '011', '111', '101', '001']\n",
    "rhythm = ['000', '010', '000', '000', '000', '001', '011', '001', '001', '001', '101', '100', '100', '100', '000', '010', '000', '100', '100', '000', '001', '000', '000', '100', '101', '100', '000', '010', '000', '010', '000', '000', '010', '000', '000', '001', '000', '001', '001', '101', '101', '100', '100', '100', '100', '100', '000', '010', '110', '111', '101', '101', '001', '101', '001', '001', '011', '001', '000', '001', '101', '101', '101', '001', '000', '100', '000', '010', '110', '010', '000', '000', '001', '001', '000', '100', '101', '100', '000', '001', '101', '100', '101', '100', '100', '101', '100', '000', '001', '000', '010', '011', '011', '011', '011', '001', '001', '101', '111', '110', '111']\n"
   ]
  },
  {
   "cell_type": "code",
   "execution_count": null,
   "metadata": {},
   "outputs": [],
   "source": [
    "note = {'000':60, '001':62, '100':64, '010':65, '011':67, '101':69, '111':71, '110':72}"
   ]
  },
  {
   "cell_type": "code",
   "execution_count": null,
   "metadata": {},
   "outputs": [],
   "source": [
    "rhythm = {'000':4, '001':3, '100':1, '010':2, '011':1.5, '101':0.75, '111':0.25, '110':0.5}"
   ]
  },
  {
   "cell_type": "code",
   "execution_count": null,
   "metadata": {},
   "outputs": [
    {
     "name": "stdout",
     "output_type": "stream",
     "text": [
      "Requirement already satisfied: MIDIUtil in /usr/local/python/3.10.13/lib/python3.10/site-packages (1.2.1)\n",
      "\n",
      "\u001b[1m[\u001b[0m\u001b[34;49mnotice\u001b[0m\u001b[1;39;49m]\u001b[0m\u001b[39;49m A new release of pip is available: \u001b[0m\u001b[31;49m24.1.2\u001b[0m\u001b[39;49m -> \u001b[0m\u001b[32;49m24.2\u001b[0m\n",
      "\u001b[1m[\u001b[0m\u001b[34;49mnotice\u001b[0m\u001b[1;39;49m]\u001b[0m\u001b[39;49m To update, run: \u001b[0m\u001b[32;49mpython -m pip install --upgrade pip\u001b[0m\n",
      "Note: you may need to restart the kernel to use updated packages.\n"
     ]
    }
   ],
   "source": [
    "from midiutil import MIDIFile\n",
    "\n",
    "track    = 0\n",
    "channel  = 2\n",
    "time     = 0   \n",
    "duration = 1   \n",
    "tempo    = 80 \n",
    "sound   = 100\n",
    "\n",
    "midi = MIDIFile(1)\n",
    "midi.addTempo(track,time, tempo)\n",
    "\n",
    "for i in range (len(notes)):\n",
    "\n",
    "  duration = rhythm.get(rhythm[i])\n",
    "  pitch = note.get(notes[i])\n",
    "  midi.addNote(track, channel, pitch, time, duration, sound)\n",
    "  midi.addNote(track, channel, pitch-5, time, duration, sound)\n",
    "  midi.addNote(track, channel, pitch-7, time, duration, sound)\n",
    "  midi.addNote(track, channel, pitch-12, time, duration, sound)\n",
    "  time = duration + time + 0.25\n",
    "\n",
    "with open(\"music.mid\", \"wb\") as output_file:\n",
    "    midi.writeFile(output_file)\n",
    "     \n",
    "\n",
    "\n"
   ]
  }
 ],
 "metadata": {
  "kernelspec": {
   "display_name": "Python 3",
   "language": "python",
   "name": "python3"
  },
  "language_info": {
   "codemirror_mode": {
    "name": "ipython",
    "version": 3
   },
   "file_extension": ".py",
   "mimetype": "text/x-python",
   "name": "python",
   "nbconvert_exporter": "python",
   "pygments_lexer": "ipython3",
   "version": "3.10.13"
  }
 },
 "nbformat": 4,
 "nbformat_minor": 2
}
